{
 "cells": [
  {
   "cell_type": "code",
   "execution_count": 6,
   "metadata": {},
   "outputs": [],
   "source": [
    "import numpy as np\n",
    "import sklearn.metrics as metrics\n",
    "import spectral_cluster\n",
    "\n",
    "\n",
    "def StochasticBlockModel(n, k, p, q):\n",
    "    sizes = np.full(k, n)\n",
    "    prob_matrix = np.full((k, k), q)\n",
    "    np.fill_diagonal(prob_matrix,  p)\n",
    "    return spectral_cluster.generate_sbm(sizes, prob_matrix)\n",
    "\n",
    "\n",
    "def Measurements(n, k, iteration=10):\n",
    "    \"\"\"It outputs a 5x5 matrix filled with adjusted Rand scores as follows. For p in [0.6,0.7,0.8,0.9,1] and\n",
    "    q in [0.1,0.2,0.3,0.4,0.5] it creates a Stochastic Block Graph with parameters n,k,p,q, then apply the\n",
    "    Spectral Clustering and finally compare the true labels with the obtained ones via adjusted Rand\n",
    "    score. We do it iteration times for fixed p,q and take the avegare of these values.\"\"\"\n",
    "    s = iteration\n",
    "    M = np.zeros((5, 5))\n",
    "    P = [0.6, 0.7, 0.8, 0.9, 1]\n",
    "    Q = [0.1, 0.2, 0.3, 0.4, 0.5]\n",
    "    for p in P:\n",
    "        for q in Q:\n",
    "            list_pq = []\n",
    "            for _ in range(s):\n",
    "                labels_true, G = StochasticBlockModel(n, k, p, q)\n",
    "                try:\n",
    "                    labels_pred = spectral_cluster.solve(G, k)\n",
    "                    a = metrics.adjusted_rand_score(labels_true, labels_pred)\n",
    "                    list_pq.append(a)\n",
    "                except spectral_cluster.ClusterError:\n",
    "                    list_pq.append(0)\n",
    "            M[P.index(p), Q.index(q)] = sum(list_pq)/s\n",
    "\n",
    "    M1 = np.round(M, 3)\n",
    "    return M1"
   ]
  },
  {
   "cell_type": "code",
   "execution_count": 7,
   "metadata": {},
   "outputs": [
    {
     "data": {
      "text/plain": [
       "array([[0.997, 1.   , 0.573, 0.   , 0.   ],\n",
       "       [1.   , 1.   , 0.997, 0.   , 0.   ],\n",
       "       [1.   , 1.   , 1.   , 0.997, 0.   ],\n",
       "       [0.986, 0.995, 1.   , 1.   , 0.2  ],\n",
       "       [1.   , 0.992, 1.   , 1.   , 1.   ]])"
      ]
     },
     "execution_count": 7,
     "metadata": {},
     "output_type": "execute_result"
    }
   ],
   "source": [
    "Measurements(40, 3, 10)"
   ]
  }
 ],
 "metadata": {
  "kernelspec": {
   "display_name": "Python 3",
   "language": "python",
   "name": "python3"
  },
  "language_info": {
   "codemirror_mode": {
    "name": "ipython",
    "version": 3
   },
   "file_extension": ".py",
   "mimetype": "text/x-python",
   "name": "python",
   "nbconvert_exporter": "python",
   "pygments_lexer": "ipython3",
   "version": "3.10.10"
  },
  "orig_nbformat": 4,
  "vscode": {
   "interpreter": {
    "hash": "e7370f93d1d0cde622a1f8e1c04877d8463912d04d973331ad4851f04de6915a"
   }
  }
 },
 "nbformat": 4,
 "nbformat_minor": 2
}
